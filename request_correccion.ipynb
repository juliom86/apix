{
 "cells": [
  {
   "cell_type": "markdown",
   "id": "76b57b61",
   "metadata": {},
   "source": [
    "# importo librerias"
   ]
  },
  {
   "cell_type": "code",
   "execution_count": 2,
   "id": "60a540ab",
   "metadata": {},
   "outputs": [],
   "source": [
    "import requests"
   ]
  },
  {
   "cell_type": "markdown",
   "id": "18c3ee32",
   "metadata": {},
   "source": [
    "## Tomo los get de las url de acuerdo a cada consulta"
   ]
  },
  {
   "cell_type": "code",
   "execution_count": 3,
   "id": "83fe8384",
   "metadata": {},
   "outputs": [],
   "source": [
    "respuesta1 = requests.get('https://babtjz.deta.dev/get_count?plat=netflix&keyword=love')\n",
    "respuesta2 = requests.get('https://babtjz.deta.dev/get_movies?plat=netflix&puntaje=85&anio=2010')\n",
    "respuesta3 = requests.get('https://babtjz.deta.dev/second_best_movie?plat=amazon&rating=100&tipo=movie')\n",
    "respuesta4 = requests.get('https://babtjz.deta.dev/movie_higher_duration?plat=netflix&anio=2016&dur=min')\n",
    "respuesta5 = requests.get('https://babtjz.deta.dev/contents?rat=18%2B')"
   ]
  },
  {
   "cell_type": "markdown",
   "id": "c850020e",
   "metadata": {},
   "source": [
    "## imprimo los resultados"
   ]
  },
  {
   "cell_type": "code",
   "execution_count": 5,
   "id": "5ed07da6",
   "metadata": {},
   "outputs": [
    {
     "name": "stdout",
     "output_type": "stream",
     "text": [
      "En la plataforma netflix, se menciona 196 la palabra love\n",
      "En la plataforma netflix, tuvo 25 en 2010, con un score mayor a 85\n",
      "En la plataforma amazon, la segunda mejor pelicula abilene town que tiene un rating de 100\n",
      "En la plataforma netflix, la pelicula sairat, tuvo una duracion de 173.0 min, en 2016\n",
      "Con el rating 18+ se tiene un total de contenido de 1243\n"
     ]
    }
   ],
   "source": [
    "print(respuesta1.json())\n",
    "print(respuesta2.json())\n",
    "print(respuesta3.json())\n",
    "print(respuesta4.json())\n",
    "print(respuesta5.json())"
   ]
  },
  {
   "cell_type": "code",
   "execution_count": null,
   "id": "e837f69c",
   "metadata": {},
   "outputs": [],
   "source": []
  }
 ],
 "metadata": {
  "kernelspec": {
   "display_name": "Python 3 (ipykernel)",
   "language": "python",
   "name": "python3"
  },
  "language_info": {
   "codemirror_mode": {
    "name": "ipython",
    "version": 3
   },
   "file_extension": ".py",
   "mimetype": "text/x-python",
   "name": "python",
   "nbconvert_exporter": "python",
   "pygments_lexer": "ipython3",
   "version": "3.8.6"
  },
  "toc": {
   "base_numbering": 1,
   "nav_menu": {},
   "number_sections": true,
   "sideBar": true,
   "skip_h1_title": false,
   "title_cell": "Table of Contents",
   "title_sidebar": "Contents",
   "toc_cell": false,
   "toc_position": {},
   "toc_section_display": true,
   "toc_window_display": false
  }
 },
 "nbformat": 4,
 "nbformat_minor": 5
}
