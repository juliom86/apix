{
 "cells": [
  {
   "cell_type": "markdown",
   "id": "59c52127",
   "metadata": {},
   "source": [
    "# importamos librerias y exploramos el dataset"
   ]
  },
  {
   "cell_type": "code",
   "execution_count": 2,
   "id": "e34c98db",
   "metadata": {},
   "outputs": [],
   "source": [
    "import pandas as pd\n"
   ]
  },
  {
   "cell_type": "code",
   "execution_count": 3,
   "id": "276f59a5",
   "metadata": {},
   "outputs": [
    {
     "data": {
      "text/html": [
       "<div>\n",
       "<style scoped>\n",
       "    .dataframe tbody tr th:only-of-type {\n",
       "        vertical-align: middle;\n",
       "    }\n",
       "\n",
       "    .dataframe tbody tr th {\n",
       "        vertical-align: top;\n",
       "    }\n",
       "\n",
       "    .dataframe thead th {\n",
       "        text-align: right;\n",
       "    }\n",
       "</style>\n",
       "<table border=\"1\" class=\"dataframe\">\n",
       "  <thead>\n",
       "    <tr style=\"text-align: right;\">\n",
       "      <th></th>\n",
       "      <th>show_id</th>\n",
       "      <th>type</th>\n",
       "      <th>title</th>\n",
       "      <th>director</th>\n",
       "      <th>cast</th>\n",
       "      <th>country</th>\n",
       "      <th>date_added</th>\n",
       "      <th>release_year</th>\n",
       "      <th>rating</th>\n",
       "      <th>listed_in</th>\n",
       "      <th>description</th>\n",
       "      <th>score</th>\n",
       "      <th>id</th>\n",
       "      <th>plataforma</th>\n",
       "      <th>duration_int</th>\n",
       "      <th>duration_type</th>\n",
       "    </tr>\n",
       "  </thead>\n",
       "  <tbody>\n",
       "    <tr>\n",
       "      <th>0</th>\n",
       "      <td>s1</td>\n",
       "      <td>movie</td>\n",
       "      <td>the grand seduction</td>\n",
       "      <td>don mckellar</td>\n",
       "      <td>brendan gleeson, taylor kitsch, gordon pinsent</td>\n",
       "      <td>canada</td>\n",
       "      <td>2021-03-30</td>\n",
       "      <td>2014</td>\n",
       "      <td>NaN</td>\n",
       "      <td>comedy, drama</td>\n",
       "      <td>a small fishing village must procure a local d...</td>\n",
       "      <td>99</td>\n",
       "      <td>as1</td>\n",
       "      <td>amazon</td>\n",
       "      <td>113.0</td>\n",
       "      <td>min</td>\n",
       "    </tr>\n",
       "    <tr>\n",
       "      <th>1</th>\n",
       "      <td>s2</td>\n",
       "      <td>movie</td>\n",
       "      <td>take care good night</td>\n",
       "      <td>girish joshi</td>\n",
       "      <td>mahesh manjrekar, abhay mahajan, sachin khedekar</td>\n",
       "      <td>india</td>\n",
       "      <td>2021-03-30</td>\n",
       "      <td>2018</td>\n",
       "      <td>13+</td>\n",
       "      <td>drama, international</td>\n",
       "      <td>a metro family decides to fight a cyber crimin...</td>\n",
       "      <td>37</td>\n",
       "      <td>as2</td>\n",
       "      <td>amazon</td>\n",
       "      <td>110.0</td>\n",
       "      <td>min</td>\n",
       "    </tr>\n",
       "    <tr>\n",
       "      <th>2</th>\n",
       "      <td>s3</td>\n",
       "      <td>movie</td>\n",
       "      <td>secrets of deception</td>\n",
       "      <td>josh webber</td>\n",
       "      <td>tom sizemore, lorenzo lamas, robert lasardo, r...</td>\n",
       "      <td>united states</td>\n",
       "      <td>2021-03-30</td>\n",
       "      <td>2017</td>\n",
       "      <td>NaN</td>\n",
       "      <td>action, drama, suspense</td>\n",
       "      <td>after a man discovers his wife is cheating on ...</td>\n",
       "      <td>20</td>\n",
       "      <td>as3</td>\n",
       "      <td>amazon</td>\n",
       "      <td>74.0</td>\n",
       "      <td>min</td>\n",
       "    </tr>\n",
       "    <tr>\n",
       "      <th>3</th>\n",
       "      <td>s4</td>\n",
       "      <td>movie</td>\n",
       "      <td>pink: staying true</td>\n",
       "      <td>sonia anderson</td>\n",
       "      <td>interviews with: pink, adele, beyoncé, britney...</td>\n",
       "      <td>united states</td>\n",
       "      <td>2021-03-30</td>\n",
       "      <td>2014</td>\n",
       "      <td>NaN</td>\n",
       "      <td>documentary</td>\n",
       "      <td>pink breaks the mold once again, bringing her ...</td>\n",
       "      <td>27</td>\n",
       "      <td>as4</td>\n",
       "      <td>amazon</td>\n",
       "      <td>69.0</td>\n",
       "      <td>min</td>\n",
       "    </tr>\n",
       "    <tr>\n",
       "      <th>4</th>\n",
       "      <td>s5</td>\n",
       "      <td>movie</td>\n",
       "      <td>monster maker</td>\n",
       "      <td>giles foster</td>\n",
       "      <td>harry dean stanton, kieran o'brien, george cos...</td>\n",
       "      <td>united kingdom</td>\n",
       "      <td>2021-03-30</td>\n",
       "      <td>1989</td>\n",
       "      <td>NaN</td>\n",
       "      <td>drama, fantasy</td>\n",
       "      <td>teenage matt banting wants to work with a famo...</td>\n",
       "      <td>75</td>\n",
       "      <td>as5</td>\n",
       "      <td>amazon</td>\n",
       "      <td>45.0</td>\n",
       "      <td>min</td>\n",
       "    </tr>\n",
       "  </tbody>\n",
       "</table>\n",
       "</div>"
      ],
      "text/plain": [
       "  show_id   type                 title        director  \\\n",
       "0      s1  movie   the grand seduction    don mckellar   \n",
       "1      s2  movie  take care good night    girish joshi   \n",
       "2      s3  movie  secrets of deception     josh webber   \n",
       "3      s4  movie    pink: staying true  sonia anderson   \n",
       "4      s5  movie         monster maker    giles foster   \n",
       "\n",
       "                                                cast         country  \\\n",
       "0     brendan gleeson, taylor kitsch, gordon pinsent          canada   \n",
       "1   mahesh manjrekar, abhay mahajan, sachin khedekar           india   \n",
       "2  tom sizemore, lorenzo lamas, robert lasardo, r...   united states   \n",
       "3  interviews with: pink, adele, beyoncé, britney...   united states   \n",
       "4  harry dean stanton, kieran o'brien, george cos...  united kingdom   \n",
       "\n",
       "   date_added  release_year rating                listed_in  \\\n",
       "0  2021-03-30          2014    NaN            comedy, drama   \n",
       "1  2021-03-30          2018    13+     drama, international   \n",
       "2  2021-03-30          2017    NaN  action, drama, suspense   \n",
       "3  2021-03-30          2014    NaN              documentary   \n",
       "4  2021-03-30          1989    NaN           drama, fantasy   \n",
       "\n",
       "                                         description  score   id plataforma  \\\n",
       "0  a small fishing village must procure a local d...     99  as1     amazon   \n",
       "1  a metro family decides to fight a cyber crimin...     37  as2     amazon   \n",
       "2  after a man discovers his wife is cheating on ...     20  as3     amazon   \n",
       "3  pink breaks the mold once again, bringing her ...     27  as4     amazon   \n",
       "4  teenage matt banting wants to work with a famo...     75  as5     amazon   \n",
       "\n",
       "   duration_int duration_type  \n",
       "0         113.0           min  \n",
       "1         110.0           min  \n",
       "2          74.0           min  \n",
       "3          69.0           min  \n",
       "4          45.0           min  "
      ]
     },
     "execution_count": 3,
     "metadata": {},
     "output_type": "execute_result"
    }
   ],
   "source": [
    "df = pd.read_csv('dataset_listo.csv')\n",
    "df.head()"
   ]
  },
  {
   "cell_type": "markdown",
   "id": "db8ea3ad",
   "metadata": {},
   "source": [
    "## Cantidad de veces que aparece una keyword en el titulo de pelis/series, por plataforma"
   ]
  },
  {
   "cell_type": "code",
   "execution_count": 5,
   "id": "9bdf374f",
   "metadata": {},
   "outputs": [
    {
     "data": {
      "text/plain": [
       "196"
      ]
     },
     "execution_count": 5,
     "metadata": {},
     "output_type": "execute_result"
    }
   ],
   "source": [
    "keyword = \"love\"\n",
    "cant = df.loc[(df.title.str.contains(keyword)) & (df.plataforma=='netflix')]\n",
    "cant.shape[0]"
   ]
  },
  {
   "cell_type": "code",
   "execution_count": 22,
   "id": "5fc50dee",
   "metadata": {},
   "outputs": [],
   "source": [
    "def get_count(plat, keyword):\n",
    "    df = pd.read_csv('dataset_listo.csv')\n",
    "    cant = df.loc[(df.title.str.contains(keyword)) & (df.plataforma==plat)]\n",
    "    conteo = cant.shape[0]\n",
    "    return f\"En la plataforma {plat}, se menciona {conteo} la palabra {keyword}\""
   ]
  },
  {
   "cell_type": "code",
   "execution_count": 23,
   "id": "2a2f4449",
   "metadata": {},
   "outputs": [
    {
     "data": {
      "text/plain": [
       "'En la plataforma netflix, se menciona 196 la palabra love'"
      ]
     },
     "execution_count": 23,
     "metadata": {},
     "output_type": "execute_result"
    }
   ],
   "source": [
    "get_count('netflix', 'love')"
   ]
  },
  {
   "cell_type": "markdown",
   "id": "3c92c1a4",
   "metadata": {},
   "source": [
    "## Cantidad de peliculas por plataforma con un puntaje mayor a XX en determinado año\n"
   ]
  },
  {
   "cell_type": "code",
   "execution_count": 6,
   "id": "11821229",
   "metadata": {},
   "outputs": [
    {
     "data": {
      "text/plain": [
       "25"
      ]
     },
     "execution_count": 6,
     "metadata": {},
     "output_type": "execute_result"
    }
   ],
   "source": [
    "puntaje = 85\n",
    "anio = 2010\n",
    "cant2 = df.loc[(df.score > puntaje) & (df.plataforma=='netflix') & (df.release_year == anio)]\n",
    "cant2.shape[0]"
   ]
  },
  {
   "cell_type": "code",
   "execution_count": 24,
   "id": "048d18de",
   "metadata": {},
   "outputs": [],
   "source": [
    "def get_movies(plat, puntaje, anio):\n",
    "    df = pd.read_csv('dataset_listo.csv')\n",
    "    cant = df.loc[(df.score > puntaje) & (df.plataforma== plat) & (df.release_year == anio)]\n",
    "    conteo = cant.shape[0]\n",
    "    return f\"En la plataforma {plat}, tuvo {conteo} en {anio}, con un score mayor a {puntaje}\""
   ]
  },
  {
   "cell_type": "code",
   "execution_count": 25,
   "id": "eeb6f296",
   "metadata": {},
   "outputs": [
    {
     "data": {
      "text/plain": [
       "'En la plataforma netflix, tuvo 25 en 2010, con un score mayor a 85'"
      ]
     },
     "execution_count": 25,
     "metadata": {},
     "output_type": "execute_result"
    }
   ],
   "source": [
    "get_movies('netflix', 85, 2010)"
   ]
  },
  {
   "cell_type": "markdown",
   "id": "8f4408b7",
   "metadata": {},
   "source": [
    "## La segunda pelicula con mayor score para una plataforma determinada, segun el orden alfabetico de los titulos"
   ]
  },
  {
   "cell_type": "code",
   "execution_count": 49,
   "id": "ea937219",
   "metadata": {},
   "outputs": [],
   "source": [
    "plat = 'amazon'\n",
    "sc = 100\n",
    "tip = 'movie'\n",
    "seg = df.loc[(df.plataforma=='amazon') & (df.score == 100) & (df.type == 'movie')]\n"
   ]
  },
  {
   "cell_type": "code",
   "execution_count": 109,
   "id": "063e0d8a",
   "metadata": {
    "scrolled": false
   },
   "outputs": [
    {
     "data": {
      "text/plain": [
       "['abilene town', 100]"
      ]
     },
     "execution_count": 109,
     "metadata": {},
     "output_type": "execute_result"
    }
   ],
   "source": [
    "seg2 = seg.sort_values(['title', 'score'],ascending = [True, False])\n",
    "seg3 = seg2[['title', 'score']]\n",
    "lista = seg3.iloc[1].to_list()\n",
    "list\n"
   ]
  },
  {
   "cell_type": "code",
   "execution_count": 26,
   "id": "90ce381a",
   "metadata": {},
   "outputs": [],
   "source": [
    "def second_best_movie(plat, rating, tipo):\n",
    "    df = pd.read_csv('dataset_listo.csv')\n",
    "    seg = df.loc[(df.plataforma==plat) & (df.score == rating) & (df.type == tipo)]\n",
    "    seg2 = seg.sort_values(['title', 'score'],ascending = [True, False])\n",
    "    seg3 = seg2[['title', 'score']]\n",
    "    lista = seg3.iloc[1].to_list()\n",
    "    return f\"En la plataforma {plat}, la segunda mejor pelicula {lista[0]} que tiene un rating de {lista[1]}\""
   ]
  },
  {
   "cell_type": "code",
   "execution_count": 27,
   "id": "317efa61",
   "metadata": {},
   "outputs": [
    {
     "data": {
      "text/plain": [
       "'En la plataforma amazon, la segunda mejor pelicula abilene town que tiene un rating de 100'"
      ]
     },
     "execution_count": 27,
     "metadata": {},
     "output_type": "execute_result"
    }
   ],
   "source": [
    "second_best_movie('amazon', 100, 'movie')"
   ]
  },
  {
   "cell_type": "markdown",
   "id": "6d3f30dd",
   "metadata": {},
   "source": [
    "## film que más duró según año, plataforma y duration type"
   ]
  },
  {
   "cell_type": "code",
   "execution_count": 61,
   "id": "dba27928",
   "metadata": {},
   "outputs": [],
   "source": [
    "dur = 'min'\n",
    "anio = 2016\n",
    "plat = 'netflix'\n",
    "film = df.loc[(df.duration_type == dur) & (df.plataforma==plat) & (df.release_year == anio)]\n",
    "\n"
   ]
  },
  {
   "cell_type": "code",
   "execution_count": 103,
   "id": "72594836",
   "metadata": {
    "scrolled": false
   },
   "outputs": [],
   "source": [
    "film2=film.sort_values(['duration_int'], ascending = [False])\n",
    "film3 = film2[['title', 'duration_int', 'duration_type']]\n",
    "lista=film3.iloc[0].to_list()\n"
   ]
  },
  {
   "cell_type": "code",
   "execution_count": 106,
   "id": "800d510a",
   "metadata": {},
   "outputs": [
    {
     "data": {
      "text/plain": [
       "['sairat', 173.0, 'min']"
      ]
     },
     "execution_count": 106,
     "metadata": {},
     "output_type": "execute_result"
    }
   ],
   "source": [
    "lista"
   ]
  },
  {
   "cell_type": "code",
   "execution_count": 28,
   "id": "230f19a5",
   "metadata": {},
   "outputs": [],
   "source": [
    "def movie_higher_duration(plat, anio, dur):\n",
    "    df = pd.read_csv('dataset_listo.csv')\n",
    "    film = df.loc[(df.duration_type == dur) & (df.plataforma==plat) & (df.release_year == anio)]\n",
    "    film2=film.sort_values(['duration_int'], ascending = [False])\n",
    "    film3 = film2[['title', 'duration_int', 'duration_type']]\n",
    "    lista=film3.iloc[0].to_list()\n",
    "    return f\"En la plataforma {plat}, la pelicula {lista[0]}, tuvo una duracion de {lista[1]} {lista[2]}, en {anio}\""
   ]
  },
  {
   "cell_type": "code",
   "execution_count": 29,
   "id": "98c33d49",
   "metadata": {},
   "outputs": [
    {
     "data": {
      "text/plain": [
       "'En la plataforma netflix, la pelicula sairat, tuvo una duracion de 173.0 min, en 2016'"
      ]
     },
     "execution_count": 29,
     "metadata": {},
     "output_type": "execute_result"
    }
   ],
   "source": [
    "movie_higher_duration('netflix', 2016, 'min')"
   ]
  },
  {
   "cell_type": "markdown",
   "id": "103a8432",
   "metadata": {},
   "source": [
    "## cantidad de tv show y movie por rating"
   ]
  },
  {
   "cell_type": "code",
   "execution_count": 73,
   "id": "56cfc286",
   "metadata": {},
   "outputs": [],
   "source": [
    "rat = '18+'\n",
    "cant3 = df.loc[(df.rating == rat)]"
   ]
  },
  {
   "cell_type": "code",
   "execution_count": 76,
   "id": "c825fe49",
   "metadata": {},
   "outputs": [
    {
     "data": {
      "text/plain": [
       "1243"
      ]
     },
     "execution_count": 76,
     "metadata": {},
     "output_type": "execute_result"
    }
   ],
   "source": [
    "cant3.shape[0]"
   ]
  },
  {
   "cell_type": "code",
   "execution_count": 30,
   "id": "de70a8d3",
   "metadata": {},
   "outputs": [],
   "source": [
    "def contents(rat):\n",
    "    df = pd.read_csv('dataset_listo.csv')\n",
    "    cant3 = df.loc[(df.rating == rat)]\n",
    "    conteo = cant3.shape[0]\n",
    "    return f\"Con el rating {rat} se tiene un total de contenido de {conteo}\""
   ]
  },
  {
   "cell_type": "code",
   "execution_count": 31,
   "id": "b337a402",
   "metadata": {},
   "outputs": [
    {
     "data": {
      "text/plain": [
       "'Con el rating 18+ se tiene un total de contenido de 1243'"
      ]
     },
     "execution_count": 31,
     "metadata": {},
     "output_type": "execute_result"
    }
   ],
   "source": [
    "contents('18+')"
   ]
  },
  {
   "cell_type": "code",
   "execution_count": null,
   "id": "9b1ad3b6",
   "metadata": {},
   "outputs": [],
   "source": []
  }
 ],
 "metadata": {
  "kernelspec": {
   "display_name": "Python 3 (ipykernel)",
   "language": "python",
   "name": "python3"
  },
  "language_info": {
   "codemirror_mode": {
    "name": "ipython",
    "version": 3
   },
   "file_extension": ".py",
   "mimetype": "text/x-python",
   "name": "python",
   "nbconvert_exporter": "python",
   "pygments_lexer": "ipython3",
   "version": "3.8.6"
  },
  "toc": {
   "base_numbering": 1,
   "nav_menu": {},
   "number_sections": true,
   "sideBar": true,
   "skip_h1_title": false,
   "title_cell": "Table of Contents",
   "title_sidebar": "Contents",
   "toc_cell": false,
   "toc_position": {},
   "toc_section_display": true,
   "toc_window_display": false
  },
  "vscode": {
   "interpreter": {
    "hash": "c1b9550e47124fe72b9151d8798c4b16c4722d05a235c3fa396feb862539c94f"
   }
  }
 },
 "nbformat": 4,
 "nbformat_minor": 5
}
